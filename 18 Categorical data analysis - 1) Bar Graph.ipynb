{
 "cells": [
  {
   "cell_type": "code",
   "execution_count": 2,
   "id": "668494a6",
   "metadata": {},
   "outputs": [],
   "source": [
    "import numpy as np\n",
    "import seaborn as sns\n",
    "import pandas as pd\n",
    "import matplotlib.pyplot as plt"
   ]
  },
  {
   "cell_type": "code",
   "execution_count": 3,
   "id": "c6c73d88",
   "metadata": {},
   "outputs": [
    {
     "data": {
      "text/html": [
       "<div>\n",
       "<style scoped>\n",
       "    .dataframe tbody tr th:only-of-type {\n",
       "        vertical-align: middle;\n",
       "    }\n",
       "\n",
       "    .dataframe tbody tr th {\n",
       "        vertical-align: top;\n",
       "    }\n",
       "\n",
       "    .dataframe thead th {\n",
       "        text-align: right;\n",
       "    }\n",
       "</style>\n",
       "<table border=\"1\" class=\"dataframe\">\n",
       "  <thead>\n",
       "    <tr style=\"text-align: right;\">\n",
       "      <th></th>\n",
       "      <th>case_id</th>\n",
       "      <th>continent</th>\n",
       "      <th>education_of_employee</th>\n",
       "      <th>has_job_experience</th>\n",
       "      <th>requires_job_training</th>\n",
       "      <th>no_of_employees</th>\n",
       "      <th>yr_of_estab</th>\n",
       "      <th>region_of_employment</th>\n",
       "      <th>prevailing_wage</th>\n",
       "      <th>unit_of_wage</th>\n",
       "      <th>full_time_position</th>\n",
       "      <th>case_status</th>\n",
       "    </tr>\n",
       "  </thead>\n",
       "  <tbody>\n",
       "    <tr>\n",
       "      <th>0</th>\n",
       "      <td>EZYV01</td>\n",
       "      <td>Asia</td>\n",
       "      <td>High School</td>\n",
       "      <td>N</td>\n",
       "      <td>N</td>\n",
       "      <td>14513</td>\n",
       "      <td>2007</td>\n",
       "      <td>West</td>\n",
       "      <td>592.2029</td>\n",
       "      <td>Hour</td>\n",
       "      <td>Y</td>\n",
       "      <td>Denied</td>\n",
       "    </tr>\n",
       "    <tr>\n",
       "      <th>1</th>\n",
       "      <td>EZYV02</td>\n",
       "      <td>Asia</td>\n",
       "      <td>Master's</td>\n",
       "      <td>Y</td>\n",
       "      <td>N</td>\n",
       "      <td>2412</td>\n",
       "      <td>2002</td>\n",
       "      <td>Northeast</td>\n",
       "      <td>83425.6500</td>\n",
       "      <td>Year</td>\n",
       "      <td>Y</td>\n",
       "      <td>Certified</td>\n",
       "    </tr>\n",
       "    <tr>\n",
       "      <th>2</th>\n",
       "      <td>EZYV03</td>\n",
       "      <td>Asia</td>\n",
       "      <td>Bachelor's</td>\n",
       "      <td>N</td>\n",
       "      <td>Y</td>\n",
       "      <td>44444</td>\n",
       "      <td>2008</td>\n",
       "      <td>West</td>\n",
       "      <td>122996.8600</td>\n",
       "      <td>Year</td>\n",
       "      <td>Y</td>\n",
       "      <td>Denied</td>\n",
       "    </tr>\n",
       "    <tr>\n",
       "      <th>3</th>\n",
       "      <td>EZYV04</td>\n",
       "      <td>Asia</td>\n",
       "      <td>Bachelor's</td>\n",
       "      <td>N</td>\n",
       "      <td>N</td>\n",
       "      <td>98</td>\n",
       "      <td>1897</td>\n",
       "      <td>West</td>\n",
       "      <td>83434.0300</td>\n",
       "      <td>Year</td>\n",
       "      <td>Y</td>\n",
       "      <td>Denied</td>\n",
       "    </tr>\n",
       "    <tr>\n",
       "      <th>4</th>\n",
       "      <td>EZYV05</td>\n",
       "      <td>Africa</td>\n",
       "      <td>Master's</td>\n",
       "      <td>Y</td>\n",
       "      <td>N</td>\n",
       "      <td>1082</td>\n",
       "      <td>2005</td>\n",
       "      <td>South</td>\n",
       "      <td>149907.3900</td>\n",
       "      <td>Year</td>\n",
       "      <td>Y</td>\n",
       "      <td>Certified</td>\n",
       "    </tr>\n",
       "    <tr>\n",
       "      <th>...</th>\n",
       "      <td>...</td>\n",
       "      <td>...</td>\n",
       "      <td>...</td>\n",
       "      <td>...</td>\n",
       "      <td>...</td>\n",
       "      <td>...</td>\n",
       "      <td>...</td>\n",
       "      <td>...</td>\n",
       "      <td>...</td>\n",
       "      <td>...</td>\n",
       "      <td>...</td>\n",
       "      <td>...</td>\n",
       "    </tr>\n",
       "    <tr>\n",
       "      <th>25475</th>\n",
       "      <td>EZYV25476</td>\n",
       "      <td>Asia</td>\n",
       "      <td>Bachelor's</td>\n",
       "      <td>Y</td>\n",
       "      <td>Y</td>\n",
       "      <td>2601</td>\n",
       "      <td>2008</td>\n",
       "      <td>South</td>\n",
       "      <td>77092.5700</td>\n",
       "      <td>Year</td>\n",
       "      <td>Y</td>\n",
       "      <td>Certified</td>\n",
       "    </tr>\n",
       "    <tr>\n",
       "      <th>25476</th>\n",
       "      <td>EZYV25477</td>\n",
       "      <td>Asia</td>\n",
       "      <td>High School</td>\n",
       "      <td>Y</td>\n",
       "      <td>N</td>\n",
       "      <td>3274</td>\n",
       "      <td>2006</td>\n",
       "      <td>Northeast</td>\n",
       "      <td>279174.7900</td>\n",
       "      <td>Year</td>\n",
       "      <td>Y</td>\n",
       "      <td>Certified</td>\n",
       "    </tr>\n",
       "    <tr>\n",
       "      <th>25477</th>\n",
       "      <td>EZYV25478</td>\n",
       "      <td>Asia</td>\n",
       "      <td>Master's</td>\n",
       "      <td>Y</td>\n",
       "      <td>N</td>\n",
       "      <td>1121</td>\n",
       "      <td>1910</td>\n",
       "      <td>South</td>\n",
       "      <td>146298.8500</td>\n",
       "      <td>Year</td>\n",
       "      <td>N</td>\n",
       "      <td>Certified</td>\n",
       "    </tr>\n",
       "    <tr>\n",
       "      <th>25478</th>\n",
       "      <td>EZYV25479</td>\n",
       "      <td>Asia</td>\n",
       "      <td>Master's</td>\n",
       "      <td>Y</td>\n",
       "      <td>Y</td>\n",
       "      <td>1918</td>\n",
       "      <td>1887</td>\n",
       "      <td>West</td>\n",
       "      <td>86154.7700</td>\n",
       "      <td>Year</td>\n",
       "      <td>Y</td>\n",
       "      <td>Certified</td>\n",
       "    </tr>\n",
       "    <tr>\n",
       "      <th>25479</th>\n",
       "      <td>EZYV25480</td>\n",
       "      <td>Asia</td>\n",
       "      <td>Bachelor's</td>\n",
       "      <td>Y</td>\n",
       "      <td>N</td>\n",
       "      <td>3195</td>\n",
       "      <td>1960</td>\n",
       "      <td>Midwest</td>\n",
       "      <td>70876.9100</td>\n",
       "      <td>Year</td>\n",
       "      <td>Y</td>\n",
       "      <td>Certified</td>\n",
       "    </tr>\n",
       "  </tbody>\n",
       "</table>\n",
       "<p>25480 rows × 12 columns</p>\n",
       "</div>"
      ],
      "text/plain": [
       "         case_id continent education_of_employee has_job_experience  \\\n",
       "0         EZYV01      Asia           High School                  N   \n",
       "1         EZYV02      Asia              Master's                  Y   \n",
       "2         EZYV03      Asia            Bachelor's                  N   \n",
       "3         EZYV04      Asia            Bachelor's                  N   \n",
       "4         EZYV05    Africa              Master's                  Y   \n",
       "...          ...       ...                   ...                ...   \n",
       "25475  EZYV25476      Asia            Bachelor's                  Y   \n",
       "25476  EZYV25477      Asia           High School                  Y   \n",
       "25477  EZYV25478      Asia              Master's                  Y   \n",
       "25478  EZYV25479      Asia              Master's                  Y   \n",
       "25479  EZYV25480      Asia            Bachelor's                  Y   \n",
       "\n",
       "      requires_job_training  no_of_employees  yr_of_estab  \\\n",
       "0                         N            14513         2007   \n",
       "1                         N             2412         2002   \n",
       "2                         Y            44444         2008   \n",
       "3                         N               98         1897   \n",
       "4                         N             1082         2005   \n",
       "...                     ...              ...          ...   \n",
       "25475                     Y             2601         2008   \n",
       "25476                     N             3274         2006   \n",
       "25477                     N             1121         1910   \n",
       "25478                     Y             1918         1887   \n",
       "25479                     N             3195         1960   \n",
       "\n",
       "      region_of_employment  prevailing_wage unit_of_wage full_time_position  \\\n",
       "0                     West         592.2029         Hour                  Y   \n",
       "1                Northeast       83425.6500         Year                  Y   \n",
       "2                     West      122996.8600         Year                  Y   \n",
       "3                     West       83434.0300         Year                  Y   \n",
       "4                    South      149907.3900         Year                  Y   \n",
       "...                    ...              ...          ...                ...   \n",
       "25475                South       77092.5700         Year                  Y   \n",
       "25476            Northeast      279174.7900         Year                  Y   \n",
       "25477                South      146298.8500         Year                  N   \n",
       "25478                 West       86154.7700         Year                  Y   \n",
       "25479              Midwest       70876.9100         Year                  Y   \n",
       "\n",
       "      case_status  \n",
       "0          Denied  \n",
       "1       Certified  \n",
       "2          Denied  \n",
       "3          Denied  \n",
       "4       Certified  \n",
       "...           ...  \n",
       "25475   Certified  \n",
       "25476   Certified  \n",
       "25477   Certified  \n",
       "25478   Certified  \n",
       "25479   Certified  \n",
       "\n",
       "[25480 rows x 12 columns]"
      ]
     },
     "execution_count": 3,
     "metadata": {},
     "output_type": "execute_result"
    }
   ],
   "source": [
    "path=\"G:\\ds&ai\\Visadataset.csv\"\n",
    "visa_df=pd.read_csv(path)\n",
    "visa_df"
   ]
  },
  {
   "cell_type": "code",
   "execution_count": null,
   "id": "358ad13f",
   "metadata": {},
   "outputs": [],
   "source": []
  },
  {
   "cell_type": "markdown",
   "id": "3c3f1217",
   "metadata": {},
   "source": [
    "#### Reading a specific column"
   ]
  },
  {
   "cell_type": "code",
   "execution_count": 4,
   "id": "5c24386d",
   "metadata": {},
   "outputs": [
    {
     "name": "stdout",
     "output_type": "stream",
     "text": [
      "0          Asia\n",
      "1          Asia\n",
      "2          Asia\n",
      "3          Asia\n",
      "4        Africa\n",
      "          ...  \n",
      "25475      Asia\n",
      "25476      Asia\n",
      "25477      Asia\n",
      "25478      Asia\n",
      "25479      Asia\n",
      "Name: continent, Length: 25480, dtype: object\n"
     ]
    }
   ],
   "source": [
    "print(visa_df['continent'])           # series type"
   ]
  },
  {
   "cell_type": "code",
   "execution_count": 5,
   "id": "38702127",
   "metadata": {},
   "outputs": [
    {
     "name": "stdout",
     "output_type": "stream",
     "text": [
      "0          Asia\n",
      "1          Asia\n",
      "2          Asia\n",
      "3          Asia\n",
      "4        Africa\n",
      "          ...  \n",
      "25475      Asia\n",
      "25476      Asia\n",
      "25477      Asia\n",
      "25478      Asia\n",
      "25479      Asia\n",
      "Name: continent, Length: 25480, dtype: object\n"
     ]
    }
   ],
   "source": [
    "print(visa_df.continent)             # series type"
   ]
  },
  {
   "cell_type": "code",
   "execution_count": 6,
   "id": "dc643064",
   "metadata": {},
   "outputs": [
    {
     "data": {
      "text/html": [
       "<div>\n",
       "<style scoped>\n",
       "    .dataframe tbody tr th:only-of-type {\n",
       "        vertical-align: middle;\n",
       "    }\n",
       "\n",
       "    .dataframe tbody tr th {\n",
       "        vertical-align: top;\n",
       "    }\n",
       "\n",
       "    .dataframe thead th {\n",
       "        text-align: right;\n",
       "    }\n",
       "</style>\n",
       "<table border=\"1\" class=\"dataframe\">\n",
       "  <thead>\n",
       "    <tr style=\"text-align: right;\">\n",
       "      <th></th>\n",
       "      <th>continent</th>\n",
       "    </tr>\n",
       "  </thead>\n",
       "  <tbody>\n",
       "    <tr>\n",
       "      <th>0</th>\n",
       "      <td>Asia</td>\n",
       "    </tr>\n",
       "    <tr>\n",
       "      <th>1</th>\n",
       "      <td>Asia</td>\n",
       "    </tr>\n",
       "    <tr>\n",
       "      <th>2</th>\n",
       "      <td>Asia</td>\n",
       "    </tr>\n",
       "    <tr>\n",
       "      <th>3</th>\n",
       "      <td>Asia</td>\n",
       "    </tr>\n",
       "    <tr>\n",
       "      <th>4</th>\n",
       "      <td>Africa</td>\n",
       "    </tr>\n",
       "    <tr>\n",
       "      <th>...</th>\n",
       "      <td>...</td>\n",
       "    </tr>\n",
       "    <tr>\n",
       "      <th>25475</th>\n",
       "      <td>Asia</td>\n",
       "    </tr>\n",
       "    <tr>\n",
       "      <th>25476</th>\n",
       "      <td>Asia</td>\n",
       "    </tr>\n",
       "    <tr>\n",
       "      <th>25477</th>\n",
       "      <td>Asia</td>\n",
       "    </tr>\n",
       "    <tr>\n",
       "      <th>25478</th>\n",
       "      <td>Asia</td>\n",
       "    </tr>\n",
       "    <tr>\n",
       "      <th>25479</th>\n",
       "      <td>Asia</td>\n",
       "    </tr>\n",
       "  </tbody>\n",
       "</table>\n",
       "<p>25480 rows × 1 columns</p>\n",
       "</div>"
      ],
      "text/plain": [
       "      continent\n",
       "0          Asia\n",
       "1          Asia\n",
       "2          Asia\n",
       "3          Asia\n",
       "4        Africa\n",
       "...         ...\n",
       "25475      Asia\n",
       "25476      Asia\n",
       "25477      Asia\n",
       "25478      Asia\n",
       "25479      Asia\n",
       "\n",
       "[25480 rows x 1 columns]"
      ]
     },
     "execution_count": 6,
     "metadata": {},
     "output_type": "execute_result"
    }
   ],
   "source": [
    "visa_df[['continent']]              # dataframe"
   ]
  },
  {
   "cell_type": "code",
   "execution_count": 7,
   "id": "cff067d0",
   "metadata": {},
   "outputs": [
    {
     "data": {
      "text/html": [
       "<div>\n",
       "<style scoped>\n",
       "    .dataframe tbody tr th:only-of-type {\n",
       "        vertical-align: middle;\n",
       "    }\n",
       "\n",
       "    .dataframe tbody tr th {\n",
       "        vertical-align: top;\n",
       "    }\n",
       "\n",
       "    .dataframe thead th {\n",
       "        text-align: right;\n",
       "    }\n",
       "</style>\n",
       "<table border=\"1\" class=\"dataframe\">\n",
       "  <thead>\n",
       "    <tr style=\"text-align: right;\">\n",
       "      <th></th>\n",
       "      <th>continent</th>\n",
       "    </tr>\n",
       "  </thead>\n",
       "  <tbody>\n",
       "    <tr>\n",
       "      <th>0</th>\n",
       "      <td>Asia</td>\n",
       "    </tr>\n",
       "    <tr>\n",
       "      <th>1</th>\n",
       "      <td>Asia</td>\n",
       "    </tr>\n",
       "    <tr>\n",
       "      <th>2</th>\n",
       "      <td>Asia</td>\n",
       "    </tr>\n",
       "    <tr>\n",
       "      <th>3</th>\n",
       "      <td>Asia</td>\n",
       "    </tr>\n",
       "    <tr>\n",
       "      <th>4</th>\n",
       "      <td>Africa</td>\n",
       "    </tr>\n",
       "    <tr>\n",
       "      <th>...</th>\n",
       "      <td>...</td>\n",
       "    </tr>\n",
       "    <tr>\n",
       "      <th>25475</th>\n",
       "      <td>Asia</td>\n",
       "    </tr>\n",
       "    <tr>\n",
       "      <th>25476</th>\n",
       "      <td>Asia</td>\n",
       "    </tr>\n",
       "    <tr>\n",
       "      <th>25477</th>\n",
       "      <td>Asia</td>\n",
       "    </tr>\n",
       "    <tr>\n",
       "      <th>25478</th>\n",
       "      <td>Asia</td>\n",
       "    </tr>\n",
       "    <tr>\n",
       "      <th>25479</th>\n",
       "      <td>Asia</td>\n",
       "    </tr>\n",
       "  </tbody>\n",
       "</table>\n",
       "<p>25480 rows × 1 columns</p>\n",
       "</div>"
      ],
      "text/plain": [
       "      continent\n",
       "0          Asia\n",
       "1          Asia\n",
       "2          Asia\n",
       "3          Asia\n",
       "4        Africa\n",
       "...         ...\n",
       "25475      Asia\n",
       "25476      Asia\n",
       "25477      Asia\n",
       "25478      Asia\n",
       "25479      Asia\n",
       "\n",
       "[25480 rows x 1 columns]"
      ]
     },
     "execution_count": 7,
     "metadata": {},
     "output_type": "execute_result"
    }
   ],
   "source": [
    "# continent column\n",
    "\n",
    "col=['continent']\n",
    "visa_df[col]"
   ]
  },
  {
   "cell_type": "code",
   "execution_count": null,
   "id": "e51f5034",
   "metadata": {},
   "outputs": [],
   "source": []
  },
  {
   "cell_type": "markdown",
   "id": "a9c64049",
   "metadata": {},
   "source": [
    "#### multiple columns reading"
   ]
  },
  {
   "cell_type": "code",
   "execution_count": 8,
   "id": "71683ee2",
   "metadata": {},
   "outputs": [
    {
     "data": {
      "text/html": [
       "<div>\n",
       "<style scoped>\n",
       "    .dataframe tbody tr th:only-of-type {\n",
       "        vertical-align: middle;\n",
       "    }\n",
       "\n",
       "    .dataframe tbody tr th {\n",
       "        vertical-align: top;\n",
       "    }\n",
       "\n",
       "    .dataframe thead th {\n",
       "        text-align: right;\n",
       "    }\n",
       "</style>\n",
       "<table border=\"1\" class=\"dataframe\">\n",
       "  <thead>\n",
       "    <tr style=\"text-align: right;\">\n",
       "      <th></th>\n",
       "      <th>continent</th>\n",
       "      <th>has_job_experience</th>\n",
       "    </tr>\n",
       "  </thead>\n",
       "  <tbody>\n",
       "    <tr>\n",
       "      <th>0</th>\n",
       "      <td>Asia</td>\n",
       "      <td>N</td>\n",
       "    </tr>\n",
       "    <tr>\n",
       "      <th>1</th>\n",
       "      <td>Asia</td>\n",
       "      <td>Y</td>\n",
       "    </tr>\n",
       "    <tr>\n",
       "      <th>2</th>\n",
       "      <td>Asia</td>\n",
       "      <td>N</td>\n",
       "    </tr>\n",
       "    <tr>\n",
       "      <th>3</th>\n",
       "      <td>Asia</td>\n",
       "      <td>N</td>\n",
       "    </tr>\n",
       "    <tr>\n",
       "      <th>4</th>\n",
       "      <td>Africa</td>\n",
       "      <td>Y</td>\n",
       "    </tr>\n",
       "    <tr>\n",
       "      <th>...</th>\n",
       "      <td>...</td>\n",
       "      <td>...</td>\n",
       "    </tr>\n",
       "    <tr>\n",
       "      <th>25475</th>\n",
       "      <td>Asia</td>\n",
       "      <td>Y</td>\n",
       "    </tr>\n",
       "    <tr>\n",
       "      <th>25476</th>\n",
       "      <td>Asia</td>\n",
       "      <td>Y</td>\n",
       "    </tr>\n",
       "    <tr>\n",
       "      <th>25477</th>\n",
       "      <td>Asia</td>\n",
       "      <td>Y</td>\n",
       "    </tr>\n",
       "    <tr>\n",
       "      <th>25478</th>\n",
       "      <td>Asia</td>\n",
       "      <td>Y</td>\n",
       "    </tr>\n",
       "    <tr>\n",
       "      <th>25479</th>\n",
       "      <td>Asia</td>\n",
       "      <td>Y</td>\n",
       "    </tr>\n",
       "  </tbody>\n",
       "</table>\n",
       "<p>25480 rows × 2 columns</p>\n",
       "</div>"
      ],
      "text/plain": [
       "      continent has_job_experience\n",
       "0          Asia                  N\n",
       "1          Asia                  Y\n",
       "2          Asia                  N\n",
       "3          Asia                  N\n",
       "4        Africa                  Y\n",
       "...         ...                ...\n",
       "25475      Asia                  Y\n",
       "25476      Asia                  Y\n",
       "25477      Asia                  Y\n",
       "25478      Asia                  Y\n",
       "25479      Asia                  Y\n",
       "\n",
       "[25480 rows x 2 columns]"
      ]
     },
     "execution_count": 8,
     "metadata": {},
     "output_type": "execute_result"
    }
   ],
   "source": [
    "cols=['continent','has_job_experience']           # create list of columns that you need to print \n",
    "visa_df[cols]"
   ]
  },
  {
   "cell_type": "code",
   "execution_count": null,
   "id": "135a0303",
   "metadata": {},
   "outputs": [],
   "source": []
  },
  {
   "cell_type": "code",
   "execution_count": 9,
   "id": "96848dbe",
   "metadata": {},
   "outputs": [
    {
     "data": {
      "text/plain": [
       "array([['EZYV01', 'Asia', 'High School', ..., 'Hour', 'Y', 'Denied'],\n",
       "       ['EZYV02', 'Asia', \"Master's\", ..., 'Year', 'Y', 'Certified'],\n",
       "       ['EZYV03', 'Asia', \"Bachelor's\", ..., 'Year', 'Y', 'Denied'],\n",
       "       ...,\n",
       "       ['EZYV25478', 'Asia', \"Master's\", ..., 'Year', 'N', 'Certified'],\n",
       "       ['EZYV25479', 'Asia', \"Master's\", ..., 'Year', 'Y', 'Certified'],\n",
       "       ['EZYV25480', 'Asia', \"Bachelor's\", ..., 'Year', 'Y', 'Certified']],\n",
       "      dtype=object)"
      ]
     },
     "execution_count": 9,
     "metadata": {},
     "output_type": "execute_result"
    }
   ],
   "source": [
    "visa_df.values                           # whole row is considered as a list entry\n",
    "                                         # (df) --> (list of all samples)"
   ]
  },
  {
   "cell_type": "code",
   "execution_count": 5,
   "id": "f3109530",
   "metadata": {},
   "outputs": [
    {
     "data": {
      "text/html": [
       "<div>\n",
       "<style scoped>\n",
       "    .dataframe tbody tr th:only-of-type {\n",
       "        vertical-align: middle;\n",
       "    }\n",
       "\n",
       "    .dataframe tbody tr th {\n",
       "        vertical-align: top;\n",
       "    }\n",
       "\n",
       "    .dataframe thead th {\n",
       "        text-align: right;\n",
       "    }\n",
       "</style>\n",
       "<table border=\"1\" class=\"dataframe\">\n",
       "  <thead>\n",
       "    <tr style=\"text-align: right;\">\n",
       "      <th></th>\n",
       "      <th>1st</th>\n",
       "      <th>2nd</th>\n",
       "      <th>3rd</th>\n",
       "    </tr>\n",
       "  </thead>\n",
       "  <tbody>\n",
       "    <tr>\n",
       "      <th>-&gt;</th>\n",
       "      <td>1</td>\n",
       "      <td>2</td>\n",
       "      <td>3</td>\n",
       "    </tr>\n",
       "    <tr>\n",
       "      <th>-&gt;</th>\n",
       "      <td>a</td>\n",
       "      <td>b</td>\n",
       "      <td>c</td>\n",
       "    </tr>\n",
       "  </tbody>\n",
       "</table>\n",
       "</div>"
      ],
      "text/plain": [
       "   1st 2nd 3rd\n",
       "->   1   2   3\n",
       "->   a   b   c"
      ]
     },
     "execution_count": 5,
     "metadata": {},
     "output_type": "execute_result"
    }
   ],
   "source": [
    "l1=[1,2,3]\n",
    "l2=['a','b','c']\n",
    "\n",
    "l=[l1,l2]                            # list ----> df\n",
    "l\n",
    "pd.DataFrame(l,columns=['1st','2nd','3rd'],index=['->','->'])\n",
    "pd.DataFrame([[1,2,3],['a','b','c']],columns=['1st','2nd','3rd'],index=['->','->'])"
   ]
  },
  {
   "cell_type": "code",
   "execution_count": null,
   "id": "0b0f4d54",
   "metadata": {},
   "outputs": [],
   "source": []
  },
  {
   "cell_type": "markdown",
   "id": "0cdfacea",
   "metadata": {},
   "source": [
    "### Unique "
   ]
  },
  {
   "cell_type": "code",
   "execution_count": 13,
   "id": "a52410e0",
   "metadata": {},
   "outputs": [
    {
     "data": {
      "text/plain": [
       "['Asia', 'Africa', 'North America', 'Europe', 'South America', 'Oceania']"
      ]
     },
     "execution_count": 13,
     "metadata": {},
     "output_type": "execute_result"
    }
   ],
   "source": [
    "# how many unique labels are there in that perticular column\n",
    "\n",
    "l1=list(visa_df['continent'].unique())                  # not applicable for dataframe          \n",
    "l1"
   ]
  },
  {
   "cell_type": "code",
   "execution_count": 12,
   "id": "b0872e04",
   "metadata": {},
   "outputs": [
    {
     "data": {
      "text/plain": [
       "{'Africa', 'Asia', 'Europe', 'North America', 'Oceania', 'South America'}"
      ]
     },
     "execution_count": 12,
     "metadata": {},
     "output_type": "execute_result"
    }
   ],
   "source": [
    "# without using unique function\n",
    "\n",
    "set(visa_df['continent'].values)"
   ]
  },
  {
   "cell_type": "code",
   "execution_count": null,
   "id": "cfd9404a",
   "metadata": {},
   "outputs": [],
   "source": []
  },
  {
   "cell_type": "markdown",
   "id": "526b0662",
   "metadata": {},
   "source": [
    "### no. of unique  \"nunique\""
   ]
  },
  {
   "cell_type": "code",
   "execution_count": 13,
   "id": "8ea208d4",
   "metadata": {},
   "outputs": [
    {
     "data": {
      "text/plain": [
       "6"
      ]
     },
     "execution_count": 13,
     "metadata": {},
     "output_type": "execute_result"
    }
   ],
   "source": [
    "visa_df['continent'].nunique()                       # gives no of unique elements in a column"
   ]
  },
  {
   "cell_type": "code",
   "execution_count": null,
   "id": "2462aa30",
   "metadata": {},
   "outputs": [],
   "source": []
  },
  {
   "cell_type": "code",
   "execution_count": 14,
   "id": "1dce8688",
   "metadata": {},
   "outputs": [
    {
     "name": "stdout",
     "output_type": "stream",
     "text": [
      "0         True\n",
      "1         True\n",
      "2         True\n",
      "3         True\n",
      "4        False\n",
      "         ...  \n",
      "25475     True\n",
      "25476     True\n",
      "25477     True\n",
      "25478     True\n",
      "25479     True\n",
      "Name: continent, Length: 25480, dtype: bool\n",
      "         case_id continent education_of_employee has_job_experience  \\\n",
      "0         EZYV01      Asia           High School                  N   \n",
      "1         EZYV02      Asia              Master's                  Y   \n",
      "2         EZYV03      Asia            Bachelor's                  N   \n",
      "3         EZYV04      Asia            Bachelor's                  N   \n",
      "5         EZYV06      Asia              Master's                  Y   \n",
      "...          ...       ...                   ...                ...   \n",
      "25475  EZYV25476      Asia            Bachelor's                  Y   \n",
      "25476  EZYV25477      Asia           High School                  Y   \n",
      "25477  EZYV25478      Asia              Master's                  Y   \n",
      "25478  EZYV25479      Asia              Master's                  Y   \n",
      "25479  EZYV25480      Asia            Bachelor's                  Y   \n",
      "\n",
      "      requires_job_training  no_of_employees  yr_of_estab  \\\n",
      "0                         N            14513         2007   \n",
      "1                         N             2412         2002   \n",
      "2                         Y            44444         2008   \n",
      "3                         N               98         1897   \n",
      "5                         N             2339         2012   \n",
      "...                     ...              ...          ...   \n",
      "25475                     Y             2601         2008   \n",
      "25476                     N             3274         2006   \n",
      "25477                     N             1121         1910   \n",
      "25478                     Y             1918         1887   \n",
      "25479                     N             3195         1960   \n",
      "\n",
      "      region_of_employment  prevailing_wage unit_of_wage full_time_position  \\\n",
      "0                     West         592.2029         Hour                  Y   \n",
      "1                Northeast       83425.6500         Year                  Y   \n",
      "2                     West      122996.8600         Year                  Y   \n",
      "3                     West       83434.0300         Year                  Y   \n",
      "5                    South       78252.1400         Year                  Y   \n",
      "...                    ...              ...          ...                ...   \n",
      "25475                South       77092.5700         Year                  Y   \n",
      "25476            Northeast      279174.7900         Year                  Y   \n",
      "25477                South      146298.8500         Year                  N   \n",
      "25478                 West       86154.7700         Year                  Y   \n",
      "25479              Midwest       70876.9100         Year                  Y   \n",
      "\n",
      "      case_status  \n",
      "0          Denied  \n",
      "1       Certified  \n",
      "2          Denied  \n",
      "3          Denied  \n",
      "5       Certified  \n",
      "...           ...  \n",
      "25475   Certified  \n",
      "25476   Certified  \n",
      "25477   Certified  \n",
      "25478   Certified  \n",
      "25479   Certified  \n",
      "\n",
      "[16861 rows x 12 columns]\n"
     ]
    },
    {
     "data": {
      "text/plain": [
       "16861"
      ]
     },
     "execution_count": 14,
     "metadata": {},
     "output_type": "execute_result"
    }
   ],
   "source": [
    "# Q. Out of total observations how many asia observations are there\n",
    "\n",
    "\"\"\"\n",
    "count=0 \n",
    "\n",
    "for i in visa_df['continent'].values:                 # Can use both series --> visa_df['continent'].values\n",
    "    if i == 'Asia':                                   #         and  df     --> visa_df[['continent']].values\n",
    "        count+=1\n",
    "        \n",
    "print(count)\n",
    "\"\"\"\n",
    "\n",
    "condition=visa_df['continent'] == 'Asia'             # {visa_df['continent'] == 'Asia'} is a condition which will always output boolean values (True or False)\n",
    "print(condition)                                     #                                  It also checks all the values in that column(without any need of counter program)\n",
    "print(visa_df[condition])                            # prints the rows with condition value = True\n",
    "len(visa_df[condition])"
   ]
  },
  {
   "cell_type": "code",
   "execution_count": 15,
   "id": "41cf901b",
   "metadata": {},
   "outputs": [
    {
     "name": "stdout",
     "output_type": "stream",
     "text": [
      "Asia : 16861\n",
      "Africa : 551\n",
      "North America : 3292\n",
      "Europe : 3732\n",
      "South America : 852\n",
      "Oceania : 192\n"
     ]
    }
   ],
   "source": [
    "unique_labels=visa_df['continent'].unique()              # unique_labels is an ndarray holding unique values of continent column\n",
    "# print(type(unique_labels))                             <class 'numpy.ndarray'>\n",
    "\n",
    "for i in unique_labels:\n",
    "    condition=visa_df['continent'] == i                  # checking for True conditions\n",
    "    print(i,':',len(visa_df[condition]))                 # printing True count"
   ]
  },
  {
   "cell_type": "code",
   "execution_count": 16,
   "id": "73b744b5",
   "metadata": {},
   "outputs": [
    {
     "name": "stdout",
     "output_type": "stream",
     "text": [
      "       continent  count\n",
      "0           Asia  16861\n",
      "1         Africa    551\n",
      "2  North America   3292\n",
      "3         Europe   3732\n",
      "4  South America    852\n",
      "5        Oceania    192\n"
     ]
    }
   ],
   "source": [
    "unique_labels=visa_df['continent'].unique()\n",
    "l1=[]\n",
    "\n",
    "for i in unique_labels:\n",
    "    condition=visa_df['continent'] == i\n",
    "    l1.append(len(visa_df[condition]))\n",
    "    \n",
    "frequency_table=pd.DataFrame(zip(unique_labels,l1),columns=['continent','count'])\n",
    "print(frequency_table)\n",
    "\n",
    "frequency_table.to_csv('G:\\ds&ai\\continental_df.csv',index=False)"
   ]
  },
  {
   "cell_type": "code",
   "execution_count": null,
   "id": "baf6c86c",
   "metadata": {},
   "outputs": [],
   "source": []
  },
  {
   "cell_type": "code",
   "execution_count": 17,
   "id": "e950ad93",
   "metadata": {},
   "outputs": [
    {
     "data": {
      "text/plain": [
       "array(['Asia', 'Asia', 'Asia', ..., 'Asia', 'Asia', 'Asia'], dtype=object)"
      ]
     },
     "execution_count": 17,
     "metadata": {},
     "output_type": "execute_result"
    }
   ],
   "source": [
    "visa_df['continent'].values                          # 1D array"
   ]
  },
  {
   "cell_type": "code",
   "execution_count": 18,
   "id": "c323ece3",
   "metadata": {},
   "outputs": [
    {
     "data": {
      "text/plain": [
       "array([['Asia'],\n",
       "       ['Asia'],\n",
       "       ['Asia'],\n",
       "       ...,\n",
       "       ['Asia'],\n",
       "       ['Asia'],\n",
       "       ['Asia']], dtype=object)"
      ]
     },
     "execution_count": 18,
     "metadata": {},
     "output_type": "execute_result"
    }
   ],
   "source": [
    "visa_df[['continent']].values                       # 2D array"
   ]
  },
  {
   "cell_type": "code",
   "execution_count": null,
   "id": "eb5c399a",
   "metadata": {},
   "outputs": [],
   "source": []
  },
  {
   "cell_type": "markdown",
   "id": "7ecbd829",
   "metadata": {},
   "source": [
    "### value_counts"
   ]
  },
  {
   "cell_type": "code",
   "execution_count": 14,
   "id": "3ddb4801",
   "metadata": {},
   "outputs": [
    {
     "name": "stdout",
     "output_type": "stream",
     "text": [
      "continent\n",
      "Asia             16861\n",
      "Europe            3732\n",
      "North America     3292\n",
      "South America      852\n",
      "Africa             551\n",
      "Oceania            192\n",
      "Name: count, dtype: int64\n"
     ]
    }
   ],
   "source": [
    "cont_vs_c=visa_df['continent'].value_counts()              \n",
    "# type(cont_vs_c)                                          # Series type\n",
    "print(cont_vs_c)                                           # prints the values in descending order"
   ]
  },
  {
   "cell_type": "code",
   "execution_count": 20,
   "id": "10f956e2",
   "metadata": {},
   "outputs": [
    {
     "data": {
      "text/plain": [
       "\"\\nseries ---> df\\n\\n1) put the output of '.keys()' and '.values' into lists\\n   then create a dataframe using DataFrame(zip(list1,list2),columns=['',''])\\n2) l1=dataframe['<column name>'].value_counts()\\n   new_dataframe=pd.DataFrame(data=l1)\\n   \\n\""
      ]
     },
     "execution_count": 20,
     "metadata": {},
     "output_type": "execute_result"
    }
   ],
   "source": [
    "\"\"\"\n",
    "series ---> df\n",
    "\n",
    "1) put the output of '.keys()' and '.values' into lists\n",
    "   then create a dataframe using DataFrame(zip(list1,list2),columns=['',''])\n",
    "2) l1=dataframe['<column name>'].value_counts()\n",
    "   new_dataframe=pd.DataFrame(data=l1)\n",
    "   \n",
    "\"\"\""
   ]
  },
  {
   "cell_type": "code",
   "execution_count": 18,
   "id": "47cf732f",
   "metadata": {},
   "outputs": [
    {
     "data": {
      "text/html": [
       "<div>\n",
       "<style scoped>\n",
       "    .dataframe tbody tr th:only-of-type {\n",
       "        vertical-align: middle;\n",
       "    }\n",
       "\n",
       "    .dataframe tbody tr th {\n",
       "        vertical-align: top;\n",
       "    }\n",
       "\n",
       "    .dataframe thead th {\n",
       "        text-align: right;\n",
       "    }\n",
       "</style>\n",
       "<table border=\"1\" class=\"dataframe\">\n",
       "  <thead>\n",
       "    <tr style=\"text-align: right;\">\n",
       "      <th></th>\n",
       "      <th>continents</th>\n",
       "      <th>count</th>\n",
       "    </tr>\n",
       "  </thead>\n",
       "  <tbody>\n",
       "    <tr>\n",
       "      <th>0</th>\n",
       "      <td>Asia</td>\n",
       "      <td>16861</td>\n",
       "    </tr>\n",
       "    <tr>\n",
       "      <th>1</th>\n",
       "      <td>Europe</td>\n",
       "      <td>3732</td>\n",
       "    </tr>\n",
       "    <tr>\n",
       "      <th>2</th>\n",
       "      <td>North America</td>\n",
       "      <td>3292</td>\n",
       "    </tr>\n",
       "    <tr>\n",
       "      <th>3</th>\n",
       "      <td>South America</td>\n",
       "      <td>852</td>\n",
       "    </tr>\n",
       "    <tr>\n",
       "      <th>4</th>\n",
       "      <td>Africa</td>\n",
       "      <td>551</td>\n",
       "    </tr>\n",
       "    <tr>\n",
       "      <th>5</th>\n",
       "      <td>Oceania</td>\n",
       "      <td>192</td>\n",
       "    </tr>\n",
       "  </tbody>\n",
       "</table>\n",
       "</div>"
      ],
      "text/plain": [
       "      continents  count\n",
       "0           Asia  16861\n",
       "1         Europe   3732\n",
       "2  North America   3292\n",
       "3  South America    852\n",
       "4         Africa    551\n",
       "5        Oceania    192"
      ]
     },
     "execution_count": 18,
     "metadata": {},
     "output_type": "execute_result"
    }
   ],
   "source": [
    "l1=cont_vs_c.keys()\n",
    "l2=cont_vs_c.values\n",
    "# type(l1)\n",
    "\n",
    "cont_vs_c_data_frame=pd.DataFrame(zip(l1,l2),columns=['continents','count'])\n",
    "cont_vs_c_data_frame"
   ]
  },
  {
   "cell_type": "code",
   "execution_count": 22,
   "id": "92ee1bb1",
   "metadata": {},
   "outputs": [
    {
     "data": {
      "text/plain": [
       "{'Asia': 16861,\n",
       " 'Europe': 3732,\n",
       " 'North America': 3292,\n",
       " 'South America': 852,\n",
       " 'Africa': 551,\n",
       " 'Oceania': 192}"
      ]
     },
     "execution_count": 22,
     "metadata": {},
     "output_type": "execute_result"
    }
   ],
   "source": [
    "dict(visa_df['continent'].value_counts())"
   ]
  },
  {
   "cell_type": "code",
   "execution_count": null,
   "id": "f16bd667",
   "metadata": {},
   "outputs": [],
   "source": []
  },
  {
   "cell_type": "markdown",
   "id": "71a9864f",
   "metadata": {},
   "source": [
    "### Bar chart"
   ]
  },
  {
   "cell_type": "code",
   "execution_count": 23,
   "id": "600008ef",
   "metadata": {},
   "outputs": [
    {
     "data": {
      "text/plain": [
       "'\\nIn order to plot bar chart we require 1 categorical and 1 numerical column\\nWe also need a frequency table then plot bar graph from that table\\narguments=> <categorical_column>, <numerical_column>, data=<frequency table dataframe> \\n\\nSyntax --> plt.bar(<categorical value on x axis>,<numerical values on y axis>,data=<frequency table data>)\\n\\npackage used -> matplotlib\\ndf used -> cont_vs_c_data_frame\\n\\n'"
      ]
     },
     "execution_count": 23,
     "metadata": {},
     "output_type": "execute_result"
    }
   ],
   "source": [
    "\"\"\"\n",
    "In order to plot bar chart we require 1 categorical and 1 numerical column\n",
    "We also need a frequency table then plot bar graph from that table\n",
    "arguments=> <categorical_column>, <numerical_column>, data=<frequency table dataframe> \n",
    "\n",
    "Syntax --> plt.bar(<categorical value on x axis>,<numerical values on y axis>,data=<frequency table data>)\n",
    "\n",
    "package used -> matplotlib\n",
    "df used -> cont_vs_c_data_frame\n",
    "\n",
    "\"\"\""
   ]
  },
  {
   "cell_type": "code",
   "execution_count": 24,
   "id": "2990df5f",
   "metadata": {},
   "outputs": [
    {
     "data": {
      "text/plain": [
       "<BarContainer object of 6 artists>"
      ]
     },
     "execution_count": 24,
     "metadata": {},
     "output_type": "execute_result"
    },
    {
     "data": {
      "image/png": "[encoded data removed]",
      "text/plain": [
       "<Figure size 1000x800 with 1 Axes>"
      ]
     },
     "metadata": {},
     "output_type": "display_data"
    }
   ],
   "source": [
    "plt.bar('continents','count',data=cont_vs_c_data_frame)          "
   ]
  },
  {
   "cell_type": "code",
   "execution_count": 24,
   "id": "a6f91f3e",
   "metadata": {},
   "outputs": [
    {
     "data": {
      "image/png": "[encoded data removed]",
      "text/plain": [
       "<Figure size 1000x600 with 1 Axes>"
      ]
     },
     "metadata": {},
     "output_type": "display_data"
    }
   ],
   "source": [
    "# bar chart modifications\n",
    "\n",
    "plt.figure(figsize=(10,6))                                         # To adjust the plot size\n",
    "plt.bar('continents','count',data=cont_vs_c_data_frame)\n",
    "plt.xlabel('Continent')                                            # To name X-axis\n",
    "plt.ylabel('Count')                                                # To name Y-axis\n",
    "plt.title('Bar Graph')                                             # To name the graph\n",
    "plt.savefig('G:\\ds&ai\\continental_bar_graph.jpg')                  # To save the plot\n",
    "plt.show()                                                         # To show the plot (should be in the last line always)"
   ]
  },
  {
   "cell_type": "code",
   "execution_count": null,
   "id": "bf78e189",
   "metadata": {},
   "outputs": [],
   "source": []
  },
  {
   "cell_type": "markdown",
   "id": "fe6778b7",
   "metadata": {},
   "source": [
    "### Count plot"
   ]
  },
  {
   "cell_type": "code",
   "execution_count": 25,
   "id": "1db9da8b",
   "metadata": {},
   "outputs": [
    {
     "data": {
      "text/plain": [
       "'\\nCount plot --> counts no of observations in each category(of a mentioned column)\\nCount plot always uses tha count on y-axis and we need to mention the categorical column on the x-axis\\nNo need for frequency table df, countplot can plot with whole dataframe\\nCountplot plots the graph but the bars are not in order\\narguments=entire dataframe , categoricalcolumn\\n\\npackage=seaborn\\ndataframe=visa_df\\n\\n'"
      ]
     },
     "execution_count": 25,
     "metadata": {},
     "output_type": "execute_result"
    }
   ],
   "source": [
    "\"\"\"\n",
    "Count plot --> counts no of observations in each category(of a mentioned column)\n",
    "Count plot always uses tha count on y-axis and we need to mention the categorical column on the x-axis\n",
    "No need for frequency table df, countplot can plot with whole dataframe\n",
    "Countplot plots the graph but the bars are not in order\n",
    "arguments=entire dataframe , categoricalcolumn\n",
    "\n",
    "package=seaborn\n",
    "dataframe=visa_df\n",
    "\n",
    "\"\"\""
   ]
  },
  {
   "cell_type": "code",
   "execution_count": 26,
   "id": "dd9d708a",
   "metadata": {},
   "outputs": [
    {
     "data": {
      "text/plain": [
       "<Axes: xlabel='continent', ylabel='count'>"
      ]
     },
     "execution_count": 26,
     "metadata": {},
     "output_type": "execute_result"
    },
    {
     "data": {
      "image/png": "[encoded data removed]",
      "text/plain": [
       "<Figure size 640x480 with 1 Axes>"
      ]
     },
     "metadata": {},
     "output_type": "display_data"
    }
   ],
   "source": [
    "sns.countplot(data=visa_df,x='continent')                    "
   ]
  },
  {
   "cell_type": "code",
   "execution_count": 27,
   "id": "520207ad",
   "metadata": {},
   "outputs": [
    {
     "data": {
      "text/plain": [
       "<Axes: xlabel='continent', ylabel='count'>"
      ]
     },
     "execution_count": 27,
     "metadata": {},
     "output_type": "execute_result"
    },
    {
     "data": {
      "image/png": "[encoded data removed]",
      "text/plain": [
       "<Figure size 640x480 with 1 Axes>"
      ]
     },
     "metadata": {},
     "output_type": "display_data"
    }
   ],
   "source": [
    "l1=['Africa', 'Asia', 'Europe', 'North America', 'Oceania', 'South America']          # mentioned order is printed\n",
    "sns.countplot(data=visa_df,x='continent',order=l1)"
   ]
  },
  {
   "cell_type": "code",
   "execution_count": 28,
   "id": "4e4487cf",
   "metadata": {},
   "outputs": [
    {
     "data": {
      "text/plain": [
       "<Axes: xlabel='continent', ylabel='count'>"
      ]
     },
     "execution_count": 28,
     "metadata": {},
     "output_type": "execute_result"
    },
    {
     "data": {
      "image/png": "[encoded data removed]",
      "text/plain": [
       "<Figure size 640x480 with 1 Axes>"
      ]
     },
     "metadata": {},
     "output_type": "display_data"
    }
   ],
   "source": [
    "l1=visa_df['continent'].value_counts()                                     # .value_counts() will always o/p in decending order\n",
    "# print(l1)                                                                # l1 is of series type. We only need the keys from that series for order\n",
    "sns.countplot(data=visa_df,x='continent',order=l1.keys())"
   ]
  },
  {
   "cell_type": "code",
   "execution_count": null,
   "id": "90bcbc04",
   "metadata": {},
   "outputs": [],
   "source": []
  },
  {
   "cell_type": "markdown",
   "id": "b228263a",
   "metadata": {},
   "source": [
    "# Bar Chart Steps Using matplotlib:-"
   ]
  },
  {
   "cell_type": "code",
   "execution_count": 29,
   "id": "18ba0582",
   "metadata": {},
   "outputs": [
    {
     "data": {
      "text/plain": [
       "'\\nUsing matplotlib:-\\n    -> import libraries\\n    -> reading dataset into a dataframe\\n    -> selecting 1 column\\n    -> getting the count of unique values from the selected column \\n    -> making unique values,count into dataframe(named frequency_df) (using lists or dictionary)\\n    -> use the columns of frequency_df for bar plot\\n    -> categorical column(cat_col) on x-axis and numerical column(num_col) on y-axis\\n    -> plt.bar(<cat_col>,<num_col>,data=<frequency_df>)\\n    -> modify the graph using figsize,etc\\n'"
      ]
     },
     "execution_count": 29,
     "metadata": {},
     "output_type": "execute_result"
    }
   ],
   "source": [
    "\"\"\"\n",
    "-> import libraries\n",
    "-> reading dataset into a dataframe\n",
    "-> selecting 1 column\n",
    "-> getting the count of unique values from the selected column \n",
    "-> making unique values,count into dataframe(named frequency_df) (using lists or dictionary)\n",
    "-> use the columns of frequency_df for bar plot\n",
    "-> categorical column(cat_col) on x-axis and numerical column(num_col) on y-axis\n",
    "-> plt.bar(<cat_col>,<num_col>,data=<frequency_df>)\n",
    "-> modify the graph using figsize,etc\n",
    "\n",
    "\"\"\""
   ]
  },
  {
   "cell_type": "code",
   "execution_count": 45,
   "id": "7bfade4b",
   "metadata": {},
   "outputs": [
    {
     "data": {
      "image/png": "[encoded data removed]",
      "text/plain": [
       "<Figure size 1000x600 with 1 Axes>"
      ]
     },
     "metadata": {},
     "output_type": "display_data"
    }
   ],
   "source": [
    "l1=visa_df['education_of_employee'].value_counts()\n",
    "\n",
    "lis_1=l1.keys()\n",
    "lis_2=l1.values\n",
    "\n",
    "freq_EOE=pd.DataFrame(zip(lis_1,lis_2),columns=['EOE','count'])\n",
    "\n",
    "plt.figure(figsize=(10,6))\n",
    "plt.bar('EOE','count',data=freq_EOE)\n",
    "plt.title('Bar Graph')\n",
    "plt.xlabel('education_of_employee')\n",
    "plt.ylabel('count')\n",
    "# plt.savefig('----path-----')\n",
    "plt.show()"
   ]
  },
  {
   "cell_type": "markdown",
   "id": "9c6a2615",
   "metadata": {},
   "source": [
    "# Bar Chart Steps Using seaborn:-"
   ]
  },
  {
   "cell_type": "code",
   "execution_count": 51,
   "id": "ea469b26",
   "metadata": {},
   "outputs": [
    {
     "data": {
      "text/plain": [
       "'\\n-> import libraries\\n-> reading dataset into a dataframe\\n-> use value_counts() to identify the decreasing order\\n-> l1=df[\"<required column name>\"].value_counts()\\n-> sns.countplot(data=<dataframe>,x=\"<required column name>\",order=l1.keys())\\n-> modify the graph using figsize,etc\\n\\n'"
      ]
     },
     "execution_count": 51,
     "metadata": {},
     "output_type": "execute_result"
    }
   ],
   "source": [
    "\"\"\"\n",
    "-> import libraries\n",
    "-> reading dataset into a dataframe\n",
    "-> use value_counts() to identify the decreasing order\n",
    "-> l1=df[\"<required column name>\"].value_counts()\n",
    "-> sns.countplot(data=<dataframe>,x=\"<required column name>\",order=l1.keys())\n",
    "-> modify the graph using figsize,etc\n",
    "\n",
    "\"\"\""
   ]
  },
  {
   "cell_type": "code",
   "execution_count": 52,
   "id": "614fd582",
   "metadata": {
    "scrolled": true
   },
   "outputs": [
    {
     "data": {
      "image/png": "[encoded data removed]",
      "text/plain": [
       "<Figure size 1000x600 with 1 Axes>"
      ]
     },
     "metadata": {},
     "output_type": "display_data"
    }
   ],
   "source": [
    "plt.figure(figsize=(10,6))\n",
    "sns.countplot(data=visa_df,x='education_of_employee',order=lis_1)\n",
    "plt.title('Count plot')\n",
    "plt.xlabel('education_of_employee')\n",
    "plt.ylabel('count')\n",
    "# plt.savefig('---path----')\n",
    "plt.show()"
   ]
  },
  {
   "cell_type": "code",
   "execution_count": null,
   "id": "a7dc5673",
   "metadata": {},
   "outputs": [],
   "source": []
  }
 ],
 "metadata": {
  "kernelspec": {
   "display_name": "Python 3 (ipykernel)",
   "language": "python",
   "name": "python3"
  },
  "language_info": {
   "codemirror_mode": {
    "name": "ipython",
    "version": 3
   },
   "file_extension": ".py",
   "mimetype": "text/x-python",
   "name": "python",
   "nbconvert_exporter": "python",
   "pygments_lexer": "ipython3",
   "version": "3.11.5"
  }
 },
 "nbformat": 4,
 "nbformat_minor": 5
}
